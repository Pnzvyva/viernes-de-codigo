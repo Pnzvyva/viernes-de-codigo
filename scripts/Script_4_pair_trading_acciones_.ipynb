{
  "nbformat": 4,
  "nbformat_minor": 0,
  "metadata": {
    "colab": {
      "provenance": []
    },
    "kernelspec": {
      "name": "python3",
      "display_name": "Python 3"
    },
    "language_info": {
      "name": "python"
    }
  },
  "cells": [
    {
      "cell_type": "markdown",
      "source": [
        "# ACCIONES"
      ],
      "metadata": {
        "id": "9kQO2PYIdT_v"
      }
    },
    {
      "cell_type": "code",
      "source": [
        "# ================================================\n",
        "# Pair Trading en Colab (sin pip, 100% compatible)\n",
        "# Fuente de datos: Stooq (CSV HTTP)\n",
        "# ================================================\n",
        "\n",
        "import io\n",
        "import time\n",
        "import math\n",
        "import numpy as np\n",
        "import pandas as pd\n",
        "import matplotlib.pyplot as plt\n",
        "\n",
        "# Intentar usar statsmodels (si no está, seguimos sin Engle–Granger)\n",
        "try:\n",
        "    import statsmodels.api as sm\n",
        "    from statsmodels.tsa.stattools import coint\n",
        "    HAS_SM = True\n",
        "except Exception:\n",
        "    HAS_SM = False\n",
        "    sm = None"
      ],
      "metadata": {
        "collapsed": true,
        "id": "1JFs3u-UdV6B"
      },
      "execution_count": null,
      "outputs": []
    },
    {
      "cell_type": "code",
      "source": [
        "plt.rcParams[\"figure.figsize\"] = (10, 4.5)\n",
        "plt.rcParams[\"axes.grid\"] = True\n",
        "pd.set_option(\"display.float_format\", lambda x: f\"{x:,.6f}\")"
      ],
      "metadata": {
        "id": "f4Qa4r-Lh6X4"
      },
      "execution_count": null,
      "outputs": []
    },
    {
      "cell_type": "code",
      "source": [
        "# ------------------------------\n",
        "# 1) Loader robusto desde Stooq\n",
        "# ------------------------------\n",
        "def stooq_url(ticker: str, interval: str = \"d\") -> str:\n",
        "    \"\"\"\n",
        "    Construye la URL CSV de Stooq para un 'ticker' (ej. 'aapl', 'msft').\n",
        "    interval: 'd' diario, 'w' semanal, 'm' mensual.\n",
        "    \"\"\"\n",
        "    # Stooq usa minúsculas; tickers USA típicos: AAPL -> aapl\n",
        "    t = ticker.strip().lower()\n",
        "    return f\"https://stooq.com/q/d/l/?s={t}&i={interval}\"\n",
        "\n",
        "def fetch_stooq_series(ticker: str, start=None, end=None, tries: int = 3, pause: float = 1.5) -> pd.Series:\n",
        "    \"\"\"\n",
        "    Descarga Close diario de un ticker desde Stooq, con reintentos.\n",
        "    Devuelve una Serie indexada por fecha (datetime) con nombre = ticker en MAYÚSCULA.\n",
        "    \"\"\"\n",
        "    last_err = None\n",
        "    url = stooq_url(ticker, \"d\")\n",
        "    for k in range(tries):\n",
        "        try:\n",
        "            s = pd.read_csv(url)\n",
        "            # Estructura esperada: Date,Open,High,Low,Close,Volume\n",
        "            if \"Date\" in s.columns and \"Close\" in s.columns:\n",
        "                s[\"Date\"] = pd.to_datetime(s[\"Date\"], errors=\"coerce\", utc=False)\n",
        "                s = s.dropna(subset=[\"Date\"]).sort_values(\"Date\")\n",
        "                s = s.set_index(\"Date\")[\"Close\"].astype(float)\n",
        "                if start is not None:\n",
        "                    s = s[s.index >= pd.to_datetime(start)]\n",
        "                if end is not None:\n",
        "                    s = s[s.index <= pd.to_datetime(end)]\n",
        "                s.name = ticker.upper()\n",
        "                if not s.empty:\n",
        "                    return s\n",
        "        except Exception as e:\n",
        "            last_err = e\n",
        "        time.sleep(pause * (k + 1))\n",
        "    raise RuntimeError(f\"Stooq fallo para {ticker}. Último error: {last_err}\")\n",
        "\n",
        "def load_prices_stooq(tickers, start=None, end=None) -> pd.DataFrame:\n",
        "    \"\"\"\n",
        "    Descarga 'Close' para varios tickers desde Stooq y devuelve\n",
        "    un DataFrame (columnas = tickers en MAYÚSCULA).\n",
        "    \"\"\"\n",
        "    series = []\n",
        "    for t in tickers:\n",
        "        s = fetch_stooq_series(t, start=start, end=end)\n",
        "        series.append(s)\n",
        "    df = pd.concat(series, axis=1)\n",
        "    # Stooq a veces tiene huecos no simultáneos: forward-fill y limpiar faltantes iniciales\n",
        "    df = df.ffill().dropna(how=\"any\")\n",
        "    return df\n",
        "\n",
        "### CORTADO CONTINUAMOS CLASE 5."
      ],
      "metadata": {
        "id": "U6la6r7LiET7"
      },
      "execution_count": null,
      "outputs": []
    }
  ]
}
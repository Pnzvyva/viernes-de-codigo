{
  "nbformat": 4,
  "nbformat_minor": 0,
  "metadata": {
    "colab": {
      "provenance": []
    },
    "kernelspec": {
      "name": "python3",
      "display_name": "Python 3"
    },
    "language_info": {
      "name": "python"
    }
  },
  "cells": [
    {
      "cell_type": "code",
      "execution_count": 1,
      "metadata": {
        "id": "RmKlWI6632TE"
      },
      "outputs": [],
      "source": [
        "# ============================================\n",
        "#  Laboratorio VDT\n",
        "#  Ordenado por secciones: funciones -> ejemplos\n",
        "# ============================================"
      ]
    },
    {
      "cell_type": "code",
      "source": [
        "# --------------------------------------------\n",
        "# Punto A. Montos únicos: VP y VF\n",
        "# --------------------------------------------\n",
        "def vp(vf, r, n):\n",
        "    \"\"\"Valor Presente de un monto único: VP = VF / (1+r)^n\"\"\"\n",
        "    return vf / ((1 + r) ** n)\n",
        "\n",
        "def vf(vp0, r, n):\n",
        "    \"\"\"Valor Futuro de un monto único: VF = VP0 * (1+r)^n\"\"\"\n",
        "    return vp0 * ((1 + r) ** n)"
      ],
      "metadata": {
        "id": "viopMnti638m"
      },
      "execution_count": 2,
      "outputs": []
    },
    {
      "cell_type": "code",
      "source": [
        "help(vp)"
      ],
      "metadata": {
        "colab": {
          "base_uri": "https://localhost:8080/"
        },
        "id": "2lHuwtBAgfJi",
        "outputId": "ffce86f5-5241-4c9e-ceb9-21c31df3b033"
      },
      "execution_count": 3,
      "outputs": [
        {
          "output_type": "stream",
          "name": "stdout",
          "text": [
            "Help on function vp in module __main__:\n",
            "\n",
            "vp(vf, r, n)\n",
            "    Valor Presente de un monto único: VP = VF / (1+r)^n\n",
            "\n"
          ]
        }
      ]
    },
    {
      "cell_type": "code",
      "source": [
        "# --- Demostración A ---\n",
        "print(\"=== Punto A: VP y VF (monto único) ===\")\n",
        "r_anual = 0.12\n",
        "n = 5\n",
        "vf_obj = 50000.0\n",
        "vp_5 = vp(vf_obj, r_anual, n)\n",
        "print(f\"VP de ${vf_obj:,.0f} en {n} años a r={r_anual:.1%} -> ${vp_5:,.2f}\")\n",
        "\n",
        "vp0 = 30000.0\n",
        "vf_5 = vf(vp0, r_anual, n)\n",
        "print(f\"VF de ${vp0:,.0f} en {n} años a r={r_anual:.1%} -> ${vf_5:,.2f}\")\n",
        "print()\n"
      ],
      "metadata": {
        "colab": {
          "base_uri": "https://localhost:8080/"
        },
        "id": "slMTqx2yX5Jj",
        "outputId": "8f7ffca2-808a-4bfb-e232-077175aa464a"
      },
      "execution_count": 4,
      "outputs": [
        {
          "output_type": "stream",
          "name": "stdout",
          "text": [
            "=== Punto A: VP y VF (monto único) ===\n",
            "VP de $50,000 en 5 años a r=12.0% -> $28,371.34\n",
            "VF de $30,000 en 5 años a r=12.0% -> $52,870.25\n",
            "\n"
          ]
        }
      ]
    },
    {
      "cell_type": "code",
      "source": [
        "# --------------------------------------------\n",
        "# Punto B. Anualidades (pagos iguales al final)\n",
        "# --------------------------------------------\n",
        "def vp_anualidad(pmt, r, n):\n",
        "    \"\"\"VP de una anualidad ordinaria (pagos al final).\"\"\"\n",
        "    if r == 0:\n",
        "        return pmt * n\n",
        "    return pmt * (1 - (1 + r) ** (-n)) / r\n",
        "\n",
        "def vf_anualidad(pmt, r, n):\n",
        "    \"\"\"VF de una anualidad ordinaria (pagos al final).\"\"\"\n",
        "    if r == 0:\n",
        "        return pmt * n\n",
        "    return pmt * ((1 + r) ** n - 1) / r\n",
        "\n",
        "def pmt_desde_vp(VP_obj, r, n):\n",
        "    \"\"\"Pago periódico requerido para alcanzar un VP objetivo en n periodos.\"\"\"\n",
        "    if r == 0:\n",
        "        return VP_obj / n\n",
        "    return VP_obj * r / (1 - (1 + r) ** (-n))"
      ],
      "metadata": {
        "id": "KCEyqsjs7AXo"
      },
      "execution_count": 5,
      "outputs": []
    },
    {
      "cell_type": "code",
      "source": [
        "# --- Demostración B ---\n",
        "print(\"=== Punto B: Anualidades (VP, VF y PMT) ===\")\n",
        "pmt = 10000.0\n",
        "n = 5\n",
        "vp_an = vp_anualidad(pmt, r_anual, n)\n",
        "vf_an = vf_anualidad(pmt, r_anual, n)\n",
        "print(f\"VP de una anualidad de ${pmt:,.0f} por {n} años a {r_anual:.1%}: ${vp_an:,.2f}\")\n",
        "print(f\"VF de la misma anualidad: ${vf_an:,.2f}\")\n",
        "\n",
        "VP_obj = 100000.0\n",
        "pmt_req = pmt_desde_vp(VP_obj, r_anual, n)\n",
        "print(f\"PMT para lograr VP=${VP_obj:,.0f} en {n} años a {r_anual:.1%}: ${pmt_req:,.2f}\")\n",
        "print()"
      ],
      "metadata": {
        "colab": {
          "base_uri": "https://localhost:8080/"
        },
        "id": "G3UtGRJL7GS8",
        "outputId": "d5fd6de7-ba7d-4b05-9d32-9432f5a7332d"
      },
      "execution_count": 6,
      "outputs": [
        {
          "output_type": "stream",
          "name": "stdout",
          "text": [
            "=== Punto B: Anualidades (VP, VF y PMT) ===\n",
            "VP de una anualidad de $10,000 por 5 años a 12.0%: $36,047.76\n",
            "VF de la misma anualidad: $63,528.47\n",
            "PMT para lograr VP=$100,000 en 5 años a 12.0%: $27,740.97\n",
            "\n"
          ]
        }
      ]
    },
    {
      "cell_type": "code",
      "source": [
        "# --------------------------------------------\n",
        "# Punto C. Series generales: VAN y TIR\n",
        "# --------------------------------------------\n",
        "def van(r, cashflows):\n",
        "    \"\"\"\n",
        "    Valor Actual Neto de una serie [CF0, CF1, ..., CFn].\n",
        "    CF0 suele ser negativo (inversión inicial).\n",
        "    \"\"\"\n",
        "    total = 0.0\n",
        "    for t, cf in enumerate(cashflows):\n",
        "        total += cf / ((1 + r) ** t)\n",
        "    return total\n",
        "\n",
        "def irr(cashflows, guess=0.10, tol=1e-8, maxiter=200):\n",
        "    \"\"\"\n",
        "    TIR mediante Newton-Raphson.\n",
        "    Devuelve float('nan') si no converge.\n",
        "    \"\"\"\n",
        "    def f(rate):\n",
        "        return van(rate, cashflows)\n",
        "    r = guess\n",
        "    for _ in range(maxiter):\n",
        "        f0 = f(r)\n",
        "        # derivada numérica por diferencia hacia adelante\n",
        "        h = 1e-6\n",
        "        f1 = (f(r + h) - f0) / h\n",
        "        if abs(f1) < 1e-14:\n",
        "            break\n",
        "        r_next = r - f0 / f1\n",
        "        if abs(r_next - r) < tol:\n",
        "            return r_next\n",
        "        r = r_next\n",
        "    return float('nan')\n"
      ],
      "metadata": {
        "collapsed": true,
        "id": "NaiXr0Zx7JUd"
      },
      "execution_count": 7,
      "outputs": []
    },
    {
      "cell_type": "code",
      "source": [
        "# --- Demostración C ---\n",
        "print(\"=== Punto C: VAN y TIR ===\")\n",
        "# Proyecto ejemplo: inversión inicial y cobros anuales\n",
        "cashflows = [-100000.0, 30000.0, 35000.0, 40000.0, 45000.0, 50000.0]\n",
        "r_desc = 0.12\n",
        "van_val = van(r_desc, cashflows)\n",
        "tir_val = irr(cashflows)\n",
        "print(f\"VAN a r={r_desc:.1%}: ${van_val:,.2f} -> {'ACEPTAR' if van_val>0 else 'RECHAZAR'}\")\n",
        "print(f\"TIR aproximada del proyecto: {tir_val*100:.2f}%\")\n",
        "print()"
      ],
      "metadata": {
        "colab": {
          "base_uri": "https://localhost:8080/"
        },
        "id": "wKTw4F9qZsEK",
        "outputId": "9450d391-2f74-404e-98f1-ba3594565a45"
      },
      "execution_count": 8,
      "outputs": [
        {
          "output_type": "stream",
          "name": "stdout",
          "text": [
            "=== Punto C: VAN y TIR ===\n",
            "VAN a r=12.0%: $40,128.37 -> ACEPTAR\n",
            "TIR aproximada del proyecto: 25.75%\n",
            "\n"
          ]
        }
      ]
    },
    {
      "cell_type": "code",
      "source": [
        "# --------------------------------------------\n",
        "# Punto D. Tasas efectivas y tasa real (Fisher)\n",
        "# --------------------------------------------\n",
        "def tasa_efectiva(nominal, m=1):\n",
        "    \"\"\"\n",
        "    Convierte una tasa nominal j capitalizable m veces al año\n",
        "    en la tasa efectiva anual equivalente: (1 + j/m)^m - 1\n",
        "    \"\"\"\n",
        "    return (1 + nominal / m) ** m - 1\n",
        "\n",
        "def fisher_efectiva(i_nom, pi):\n",
        "    \"\"\"\n",
        "    Tasa real exacta: (1 + i_nom) / (1 + pi) - 1\n",
        "    i_nom: tasa nominal (por ejemplo, interés de mercado)\n",
        "    pi: inflación esperada del periodo\n",
        "    \"\"\"\n",
        "    return (1 + i_nom) / (1 + pi) - 1\n"
      ],
      "metadata": {
        "id": "yy5V3Gzl7UNM"
      },
      "execution_count": 9,
      "outputs": []
    },
    {
      "cell_type": "code",
      "source": [
        "# --- Demostración D ---\n",
        "print(\"=== Punto D: Tasas efectivas y Fisher ===\")\n",
        "j_nom = 0.18   # 18% nominal\n",
        "m = 12         # capitalización mensual\n",
        "i_eff = tasa_efectiva(j_nom, m)\n",
        "pi = 0.06      # 6% inflación\n",
        "i_real = fisher_efectiva(i_eff, pi)\n",
        "print(f\"Tasa efectiva anual equivalente de {j_nom:.1%} nominal con m={m}: {i_eff:.2%}\")\n",
        "print(f\"Tasa real (Fisher) con inflación {pi:.1%}: {i_real:.2%}\")\n",
        "print()"
      ],
      "metadata": {
        "colab": {
          "base_uri": "https://localhost:8080/"
        },
        "id": "Ceem1_Zr7apv",
        "outputId": "f0f8dc47-af95-473c-8bd4-0a01ee896016"
      },
      "execution_count": 10,
      "outputs": [
        {
          "output_type": "stream",
          "name": "stdout",
          "text": [
            "=== Punto D: Tasas efectivas y Fisher ===\n",
            "Tasa efectiva anual equivalente de 18.0% nominal con m=12: 19.56%\n",
            "Tasa real (Fisher) con inflación 6.0%: 12.79%\n",
            "\n"
          ]
        }
      ]
    },
    {
      "cell_type": "markdown",
      "source": [
        "## Informe automatico"
      ],
      "metadata": {
        "id": "pr3HNAfyaMDl"
      }
    },
    {
      "cell_type": "code",
      "source": [
        "# 1) Instalar dependencias (solo 1 vez por sesión de Colab)\n",
        "!pip -q install python-docx"
      ],
      "metadata": {
        "colab": {
          "base_uri": "https://localhost:8080/"
        },
        "id": "oxxr5WNIaLtr",
        "outputId": "78b00a91-cf8b-423d-e295-0580044432d5"
      },
      "execution_count": 11,
      "outputs": [
        {
          "output_type": "stream",
          "name": "stdout",
          "text": [
            "\u001b[?25l   \u001b[90m━━━━━━━━━━━━━━━━━━━━━━━━━━━━━━━━━━━━━━━━\u001b[0m \u001b[32m0.0/253.0 kB\u001b[0m \u001b[31m?\u001b[0m eta \u001b[36m-:--:--\u001b[0m\r\u001b[2K   \u001b[91m━━━━━━━━━━━━━━━━━━━━━━━━━━━━━━\u001b[0m\u001b[91m╸\u001b[0m\u001b[90m━━━━━━━━━\u001b[0m \u001b[32m194.6/253.0 kB\u001b[0m \u001b[31m6.4 MB/s\u001b[0m eta \u001b[36m0:00:01\u001b[0m\r\u001b[2K   \u001b[90m━━━━━━━━━━━━━━━━━━━━━━━━━━━━━━━━━━━━━━━━\u001b[0m \u001b[32m253.0/253.0 kB\u001b[0m \u001b[31m4.9 MB/s\u001b[0m eta \u001b[36m0:00:00\u001b[0m\n",
            "\u001b[?25h"
          ]
        }
      ]
    },
    {
      "cell_type": "code",
      "source": [
        "# Librerias necesarias.\n",
        "from docx import Document\n",
        "from docx.shared import Inches, Pt\n",
        "from docx.enum.text import WD_ALIGN_PARAGRAPH\n",
        "from docx.oxml.ns import qn\n",
        "from datetime import datetime\n",
        "import matplotlib.pyplot as plt\n",
        "import os"
      ],
      "metadata": {
        "id": "OrDcgNEoaYrI"
      },
      "execution_count": 12,
      "outputs": []
    },
    {
      "cell_type": "code",
      "source": [
        "# Funciones necesarias y auxiliares.\n",
        "\n",
        "def add_heading(doc, text, level=1):\n",
        "    h = doc.add_heading(text, level=level)\n",
        "    return h\n",
        "\n",
        "def add_paragraph(doc, text, bold=False, italic=False):\n",
        "    p = doc.add_paragraph()\n",
        "    run = p.add_run(text)\n",
        "    run.bold = bold\n",
        "    run.italic = italic\n",
        "    return p\n",
        "\n",
        "def add_key_value_table(doc, data_dict, col1=\"Métrica\", col2=\"Valor\"):\n",
        "    table = doc.add_table(rows=1, cols=2)\n",
        "    hdr_cells = table.rows[0].cells\n",
        "    hdr_cells[0].text = col1\n",
        "    hdr_cells[1].text = col2\n",
        "    for k, v in data_dict.items():\n",
        "        row_cells = table.add_row().cells\n",
        "        row_cells[0].text = str(k)\n",
        "        row_cells[1].text = str(v)\n",
        "    table.style = \"Light List\"\n",
        "    doc.add_paragraph(\"\")  # espacio\n",
        "\n",
        "def formato_moneda(x):\n",
        "    try:\n",
        "        return f\"${float(x):,.2f}\"\n",
        "    except:\n",
        "        return str(x)"
      ],
      "metadata": {
        "id": "jY7RatUtahn3"
      },
      "execution_count": 13,
      "outputs": []
    },
    {
      "cell_type": "code",
      "source": [
        "# Funciones para graficos.\n",
        "\n",
        "def plot_perfil_van(cashflows, r_min=0.0, r_max=0.4, pasos=200, TIR=None):\n",
        "    tasas = [r_min + i*(r_max-r_min)/(pasos-1) for i in range(pasos)]\n",
        "    def van(rate, cfs):\n",
        "        return sum(cf / ((1+rate)**t) for t, cf in enumerate(cfs))\n",
        "    vans = [van(r, cashflows) for r in tasas]\n",
        "    fig = plt.figure()\n",
        "    plt.plot([t*100 for t in tasas], vans)\n",
        "    plt.axhline(0, color=\"k\", lw=1)\n",
        "    if TIR is not None and TIR == TIR:  # no NaN\n",
        "        plt.axvline(TIR*100, color=\"r\", ls=\"--\", label=f\"TIR ≈ {TIR*100:.2f}%\")\n",
        "        plt.legend()\n",
        "    plt.title(\"Perfil del VAN\")\n",
        "    plt.xlabel(\"Tasa de descuento (%)\")\n",
        "    plt.ylabel(\"VAN\")\n",
        "    plt.grid(True)\n",
        "    return fig\n",
        "\n",
        "def plot_vp_acumulado(cashflows, r):\n",
        "    vp = [cf / ((1+r)**t) for t, cf in enumerate(cashflows)]\n",
        "    vp_acum = []\n",
        "    s = 0.0\n",
        "    for v in vp:\n",
        "        s += v\n",
        "        vp_acum.append(s)\n",
        "    fig = plt.figure()\n",
        "    plt.plot(range(len(vp_acum)), vp_acum, marker=\"o\")\n",
        "    plt.axhline(0, color=\"k\", lw=1)\n",
        "    plt.title(f\"Valor Presente Acumulado (r={r:.1%})\")\n",
        "    plt.xlabel(\"Periodo\")\n",
        "    plt.ylabel(\"VP acumulado\")\n",
        "    plt.grid(True)\n",
        "    return fig\n",
        "\n",
        "def save_fig(fig, path_png):\n",
        "    fig.savefig(path_png, dpi=150, bbox_inches=\"tight\")\n",
        "    plt.close(fig)"
      ],
      "metadata": {
        "id": "deo5rohPa2Im"
      },
      "execution_count": 14,
      "outputs": []
    },
    {
      "cell_type": "code",
      "source": [
        "# ---------- Armar el reporte ----------\n",
        "# Asegúrate de tener definidas estas variables en tu notebook:\n",
        "# r_anual, inflacion, vp_5, vf_5, vp_an, vp_an, pmt_req, VAN_base, TIR, cashflows\n",
        "\n",
        "# Si alguna no existe, ajusta aquí (o comenta lo que no tengas):\n",
        "parametros = {\n",
        "    \"Tasa de descuento anual (r)\": f\"{r_anual:.2%}\",\n",
        "    \"Inflación esperada (π)\": f\"{pi:.2%}\",\n",
        "}\n",
        "\n",
        "resultados = {\n",
        "    \"VP de VF=50,000 a 5 años\": formato_moneda(vp_5),\n",
        "    \"VF de VP0=30,000 a 5 años\": formato_moneda(vf_5),\n",
        "    \"VP Anualidad (PMT=10,000, n=5)\": formato_moneda(vp_an),\n",
        "    \"VF Anualidad (PMT=10,000, n=5)\": formato_moneda(vf_an),\n",
        "    \"PMT para VP objetivo=100,000 (n=5)\": formato_moneda(pmt_req),\n",
        "    f\"VAN proyecto a r={r_anual:.0%}\": formato_moneda(van_val),\n",
        "    \"TIR del proyecto\": f\"{tir_val*100:.2f}%\",\n",
        "}"
      ],
      "metadata": {
        "id": "8s77PWqrbCHA"
      },
      "execution_count": 15,
      "outputs": []
    },
    {
      "cell_type": "markdown",
      "source": [],
      "metadata": {
        "id": "4WAgiIwWu5Rw"
      }
    },
    {
      "cell_type": "code",
      "source": [
        "# Crear carpeta y nombre de archivo con timestamp\n",
        "os.makedirs(\"reports_vdt\", exist_ok=True)\n",
        "stamp = datetime.now().strftime(\"%Y%m%d_%H%M\")\n",
        "docx_path = f\"reports_vdt/Reporte_VDT_{stamp}.docx\""
      ],
      "metadata": {
        "id": "1y8237xFb6fx"
      },
      "execution_count": 16,
      "outputs": []
    },
    {
      "cell_type": "code",
      "source": [
        "# Documento\n",
        "doc = Document()\n",
        "title = doc.add_heading(\"Reporte — Valor del Dinero en el Tiempo\", level=0)\n",
        "title.alignment = WD_ALIGN_PARAGRAPH.CENTER\n",
        "add_paragraph(doc, f\"Generado automáticamente: {datetime.now().strftime('%Y-%m-%d %H:%M')}\", italic=True)"
      ],
      "metadata": {
        "colab": {
          "base_uri": "https://localhost:8080/"
        },
        "id": "7PqYgGTjb-9b",
        "outputId": "b224bac9-2b17-4ad3-8326-d9e778c0c63d"
      },
      "execution_count": 17,
      "outputs": [
        {
          "output_type": "execute_result",
          "data": {
            "text/plain": [
              "<docx.text.paragraph.Paragraph at 0x7812d663a450>"
            ]
          },
          "metadata": {},
          "execution_count": 17
        }
      ]
    },
    {
      "cell_type": "code",
      "source": [
        "# Sección 1: Parámetros\n",
        "add_heading(doc, \"1. Parámetros usados\", level=1)\n",
        "add_key_value_table(doc, parametros, \"Parámetro\", \"Valor\")\n",
        "\n",
        "# Sección 2: Resultados clave\n",
        "add_heading(doc, \"2. Resultados clave\", level=1)\n",
        "add_key_value_table(doc, resultados, \"Métrica\", \"Resultado\")\n",
        "\n",
        "# (Opcional) Sección 3: Gráficos\n",
        "try:\n",
        "    fig1 = plot_perfil_van(cashflows, r_min=0.0, r_max=0.4, pasos=200, TIR=TIR)\n",
        "    png1 = f\"reports_vdt/perfil_VAN_{stamp}.png\"\n",
        "    save_fig(fig1, png1)\n",
        "\n",
        "    fig2 = plot_vp_acumulado(cashflows, r=r_anual)\n",
        "    png2 = f\"reports_vdt/vp_acumulado_{stamp}.png\"\n",
        "    save_fig(fig2, png2)\n",
        "\n",
        "    add_heading(doc, \"3. Gráficos\", level=1)\n",
        "    add_paragraph(doc, \"3.1 Perfil del VAN\")\n",
        "    doc.add_picture(png1, width=Inches(6))\n",
        "    add_paragraph(doc, \"3.2 Valor Presente Acumulado\")\n",
        "    doc.add_picture(png2, width=Inches(6))\n",
        "except Exception as e:\n",
        "    add_paragraph(doc, f\"(No se incluyeron gráficos: {e})\", italic=True)\n",
        "\n",
        "# Sección 4: Observaciones\n",
        "add_heading(doc, \"4. Observaciones y notas\", level=1)\n",
        "add_paragraph(\n",
        "    doc,\n",
        "    \"- VAN > 0 sugiere aceptar el proyecto a la tasa de descuento indicada.\\n\"\n",
        "    \"- La TIR es la tasa que hace VAN = 0; si hay múltiples cambios de signo en CF, puede haber múltiples TIR.\\n\"\n",
        "    \"- VP/VF y anualidades se interpretan en el marco del VDT puro; no incorporan riesgo por sí solos.\\n\"\n",
        ")"
      ],
      "metadata": {
        "colab": {
          "base_uri": "https://localhost:8080/"
        },
        "id": "GW0v3iMIcEOf",
        "outputId": "cb1c9c0c-2e7e-4c6a-dae8-c7a23cceef27"
      },
      "execution_count": 18,
      "outputs": [
        {
          "output_type": "execute_result",
          "data": {
            "text/plain": [
              "<docx.text.paragraph.Paragraph at 0x7812d669a810>"
            ]
          },
          "metadata": {},
          "execution_count": 18
        }
      ]
    },
    {
      "cell_type": "code",
      "source": [
        "# Guardar\n",
        "doc.save(docx_path)\n",
        "print(\"Reporte DOCX generado en:\", os.path.abspath(docx_path))"
      ],
      "metadata": {
        "colab": {
          "base_uri": "https://localhost:8080/"
        },
        "id": "HCxQCFmTcKaW",
        "outputId": "ae095dd1-b59d-46ba-a885-bd124633028a"
      },
      "execution_count": 19,
      "outputs": [
        {
          "output_type": "stream",
          "name": "stdout",
          "text": [
            "Reporte DOCX generado en: /content/reports_vdt/Reporte_VDT_20250830_1626.docx\n"
          ]
        }
      ]
    }
  ]
}